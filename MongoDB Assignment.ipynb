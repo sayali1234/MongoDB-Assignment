{
 "cells": [
  {
   "cell_type": "markdown",
   "id": "8a93b391-baef-4cae-8545-ebcf75a0462c",
   "metadata": {},
   "source": [
    "Q1) What is MongoDB? Explain non-relational databases in short. In which scenarios it is preferred to use\n",
    "MongoDB over SQL databases?"
   ]
  },
  {
   "cell_type": "code",
   "execution_count": null,
   "id": "b3b1575f-c7c8-4695-ae15-f33ed544bd08",
   "metadata": {},
   "outputs": [],
   "source": [
    "MongoDB is a popular document-oriented NoSQL database system that stores data in a flexible, semi-structured JSON-like format called BSON. Unlike traditional\n",
    "relational databases like SQL, MongoDB uses a flexible data model that allows for easier scalability and performance.\n",
    "\n",
    "Non-relational databases, also known as NoSQL databases, are databases that store data in a non-tabular format. Unlike relational databases, which use a \n",
    "structured table format with rows and columns, NoSQL databases use a variety of data models, including document-oriented, key-value, graph, and column-family.\n",
    "NoSQL databases are often used for handling large volumes of unstructured or semi-structured data, and for scenarios where data needs to be horizontally scaled\n",
    "across multiple servers.\n",
    "\n",
    "MongoDB is often preferred over SQL databases in scenarios where:\n",
    "\n",
    "1)Scalability is a concern: MongoDB's flexible data model and horizontal scaling capabilities make it easier to scale across multiple servers without the need for\n",
    "complex data sharding or partitioning.\n",
    "\n",
    "2)Semi-structured data: MongoDB's document-oriented data model is well-suited for handling semi-structured or unstructured data, such as data from social media, \n",
    "sensor data, or product catalogs.\n",
    "\n",
    "3)Real-time data processing: MongoDB's write-intensive architecture is well-suited for real-time data processing scenarios, such as logging, content management,\n",
    "or online gaming.\n",
    "\n",
    "4)Agile development: MongoDB's dynamic schema makes it easier to add or modify fields as the application evolves, providing greater flexibility for agile\n",
    "development teams."
   ]
  },
  {
   "cell_type": "markdown",
   "id": "4eb8566f-b0c2-4a07-964e-e61b5683b769",
   "metadata": {},
   "source": [
    "Q2) State and Explain the features of MongoDB."
   ]
  },
  {
   "cell_type": "code",
   "execution_count": null,
   "id": "b4ad7c24-8583-4bce-b338-d7873723186b",
   "metadata": {},
   "outputs": [],
   "source": [
    "MongoDB is a popular NoSQL database system that offers many features that make it well-suited for modern web and mobile applications. Some of the key features of\n",
    "MongoDB include:\n",
    "\n",
    "1)Document-oriented data model: MongoDB uses a document-oriented data model that stores data in flexible, semi-structured JSON-like documents called BSON. This \n",
    "allows for easier scalability and performance compared to traditional relational databases.\n",
    "\n",
    "2)Indexing: MongoDB provides a rich set of indexing options that allow for efficient data access and faster queries. These include single-field, compound, \n",
    "geospatial, and text indexes.\n",
    "\n",
    "3)High availability: MongoDB supports replica sets, which allow for automatic failover in the event of a server outage. This provides high availability and \n",
    "ensures that applications remain up and running even in the face of hardware failures.\n",
    "\n",
    "4)Horizontal scaling: MongoDB can be horizontally scaled across multiple servers using a process called sharding. This allows for increased data throughput and \n",
    "improved performance as the application grows.\n",
    "\n",
    "5)Aggregation and analytics: MongoDB provides a powerful aggregation framework that allows for complex data processing and analytics. This includes support for\n",
    "grouping, filtering, and transformation of data.\n",
    "\n",
    "6)Flexibility: MongoDB's dynamic schema allows for easy addition or modification of fields as the application evolves. This provides greater flexibility and \n",
    "agility for modern development teams.\n",
    "\n",
    "7)Multi-document transactions: Starting from version 4.0, MongoDB supports multi-document transactions, allowing developers to perform multiple operations on \n",
    "multiple documents in a single transaction. This ensures data consistency and helps to prevent data anomalies.\n",
    "\n",
    "8)Security: MongoDB provides several security features, including role-based access control, encryption at rest, and network encryption. This ensures that data is \n",
    "secure and protected from unauthorized access.\n",
    "\n",
    "Overall, MongoDB provides a powerful and flexible database solution for modern web and mobile applications. Its document-oriented data model, indexing, high\n",
    "availability, horizontal scaling, aggregation, flexibility, multi-document transactions, and security features make it a popular choice among developers and \n",
    "organizations."
   ]
  },
  {
   "cell_type": "markdown",
   "id": "6dce7c8c-5745-45c9-8818-2b4f35d54a0b",
   "metadata": {},
   "source": [
    "Q3) Write a code to connect MongoDB to Python. Also, create a database and a collection in MongoDB."
   ]
  },
  {
   "cell_type": "code",
   "execution_count": null,
   "id": "38477423-2b4d-4efc-a1ac-992b3666303e",
   "metadata": {},
   "outputs": [],
   "source": [
    "Here's an example code snippet that connects to a MongoDB instance using Python and creates a new database and collection:"
   ]
  },
  {
   "cell_type": "code",
   "execution_count": null,
   "id": "7cb97dc9-354b-406d-9497-885dc1026b18",
   "metadata": {},
   "outputs": [],
   "source": [
    "# import the required libraries\n",
    "from pymongo import MongoClient\n",
    "\n",
    "# connect to MongoDB\n",
    "client = MongoClient('mongodb://localhost:27017/')\n",
    "\n",
    "# create a new database\n",
    "db = client['mydatabase']\n",
    "\n",
    "# create a new collection\n",
    "collection = db['mycollection']\n",
    "\n",
    "# add a document to the collection\n",
    "document = {\"name\": \"John Doe\", \"age\": 30, \"email\": \"johndoe@example.com\"}\n",
    "collection.insert_one(document)\n",
    "\n",
    "# retrieve all documents in the collection\n",
    "documents = collection.find()\n",
    "\n",
    "# print the documents\n",
    "for document in documents:\n",
    "    print(document)"
   ]
  },
  {
   "cell_type": "code",
   "execution_count": null,
   "id": "1f7c2947-3271-4878-a46c-741c1ffbcb18",
   "metadata": {},
   "outputs": [],
   "source": [
    "In this code snippet, we first import the MongoClient class from the pymongo library. We then connect to a MongoDB instance running on localhost and port 27017.\n",
    "\n",
    "Next, we create a new database called mydatabase using the client object. We then create a new collection called mycollection within the mydatabase database.\n",
    "\n",
    "We then add a new document to the mycollection collection using the insert_one method, which takes a dictionary as an argument.\n",
    "\n",
    "Finally, we retrieve all documents in the mycollection collection using the find method and print them to the console.\n",
    "\n",
    "Note that before running this code, you'll need to have a MongoDB instance running on localhost and port 27017. You'll also need to have the pymongo library \n",
    "installed."
   ]
  },
  {
   "cell_type": "markdown",
   "id": "f72ea734-29c9-479c-afb8-78e8ab27d3fb",
   "metadata": {},
   "source": [
    "Q4) Using the database and the collection created in question number 3, write a code to insert one record,\n",
    "and insert many records. Use the find() and find_one() methods to print the inserted record."
   ]
  },
  {
   "cell_type": "code",
   "execution_count": null,
   "id": "7e6f4d96-733c-4a1f-b1f8-6d5bf8086361",
   "metadata": {},
   "outputs": [],
   "source": [
    "Here's an example code snippet that inserts one record and many records into the mycollection collection, and then uses the find() and find_one() methods to print\n",
    "the inserted records:"
   ]
  },
  {
   "cell_type": "code",
   "execution_count": null,
   "id": "c2527fa6-f73e-4780-b81b-cdb5a18a530c",
   "metadata": {},
   "outputs": [],
   "source": [
    "# import the required libraries\n",
    "from pymongo import MongoClient\n",
    "\n",
    "# connect to MongoDB\n",
    "client = MongoClient('mongodb://localhost:27017/')\n",
    "\n",
    "# access the mydatabase database and mycollection collection\n",
    "db = client['mydatabase']\n",
    "collection = db['mycollection']\n",
    "\n",
    "# insert one record\n",
    "document_one = {\"name\": \"Alice\", \"age\": 25, \"email\": \"alice@example.com\"}\n",
    "collection.insert_one(document_one)\n",
    "\n",
    "# insert many records\n",
    "document_many = [\n",
    "    {\"name\": \"Bob\", \"age\": 30, \"email\": \"bob@example.com\"},\n",
    "    {\"name\": \"Charlie\", \"age\": 35, \"email\": \"charlie@example.com\"},\n",
    "    {\"name\": \"David\", \"age\": 40, \"email\": \"david@example.com\"}\n",
    "]\n",
    "collection.insert_many(document_many)\n",
    "\n",
    "# print the inserted record using find_one()\n",
    "record = collection.find_one({\"name\": \"Alice\"})\n",
    "print(\"One record:\")\n",
    "print(record)\n",
    "\n",
    "# print the inserted records using find()\n",
    "records = collection.find({\"age\": {\"$gte\": 30}})\n",
    "print(\"Many records:\")\n",
    "for record in records:\n",
    "    print(record)"
   ]
  },
  {
   "cell_type": "code",
   "execution_count": null,
   "id": "ab0bcc70-f619-426c-9b39-9370c9a806d8",
   "metadata": {},
   "outputs": [],
   "source": [
    "In this code snippet, we first connect to the mydatabase database and mycollection collection using the MongoClient class.\n",
    "\n",
    "We then insert one record into the mycollection collection using the insert_one() method, and insert many records using the insert_many() method.\n",
    "\n",
    "We then use the find_one() method to retrieve the record with name equal to \"Alice\", and print it to the console. We also use the find() method to retrieve all \n",
    "records with age greater than or equal to 30, and print them to the console.\n",
    "\n",
    "Note that the find() method returns a cursor object, which can be used to iterate over the returned documents."
   ]
  },
  {
   "cell_type": "markdown",
   "id": "54dfedd9-1430-403a-b648-262ac67b182a",
   "metadata": {},
   "source": [
    "Q5) Explain how you can use the find() method to query the MongoDB database. Write a simple code to\n",
    "demonstrate this."
   ]
  },
  {
   "cell_type": "code",
   "execution_count": null,
   "id": "2d53b019-8357-458d-84d7-cb0d8bd44551",
   "metadata": {},
   "outputs": [],
   "source": [
    "The find() method is used to query a MongoDB database to retrieve documents that match a specified set of criteria. The find() method takes a query object as its\n",
    "parameter, which is a dictionary that specifies the selection criteria.\n",
    "\n",
    "The basic syntax for using the find() method is as follows:\n",
    "\n",
    "collection.find(query, projection)\n",
    "\n",
    "Here, collection is the collection you want to query, query is a dictionary that specifies the selection criteria, and projection is an optional dictionary that \n",
    "specifies which fields to include or exclude from the result set.\n",
    "\n",
    "Here's an example code snippet that demonstrates how to use the find() method to query a MongoDB database:"
   ]
  },
  {
   "cell_type": "code",
   "execution_count": null,
   "id": "8bff68fa-d86b-4d45-bacf-14995ba14037",
   "metadata": {},
   "outputs": [],
   "source": [
    "# import the required libraries\n",
    "from pymongo import MongoClient\n",
    "\n",
    "# connect to MongoDB\n",
    "client = MongoClient('mongodb://localhost:27017/')\n",
    "\n",
    "# access the mydatabase database and mycollection collection\n",
    "db = client['mydatabase']\n",
    "collection = db['mycollection']\n",
    "\n",
    "# insert some sample documents\n",
    "collection.insert_many([\n",
    "    {\"name\": \"Alice\", \"age\": 25, \"email\": \"alice@example.com\"},\n",
    "    {\"name\": \"Bob\", \"age\": 30, \"email\": \"bob@example.com\"},\n",
    "    {\"name\": \"Charlie\", \"age\": 35, \"email\": \"charlie@example.com\"},\n",
    "    {\"name\": \"David\", \"age\": 40, \"email\": \"david@example.com\"}\n",
    "])\n",
    "\n",
    "# find all documents in the collection\n",
    "results = collection.find()\n",
    "\n",
    "# print the documents\n",
    "for result in results:\n",
    "    print(result)\n",
    "\n",
    "# find documents where age is greater than or equal to 30\n",
    "query = {\"age\": {\"$gte\": 30}}\n",
    "results = collection.find(query)\n",
    "\n",
    "# print the documents\n",
    "for result in results:\n",
    "    print(result)\n",
    "\n",
    "# find documents where name is \"Alice\" and age is 25\n",
    "query = {\"name\": \"Alice\", \"age\": 25}\n",
    "results = collection.find(query)\n",
    "\n",
    "# print the documents\n",
    "for result in results:\n",
    "    print(result)"
   ]
  },
  {
   "cell_type": "code",
   "execution_count": null,
   "id": "8c78bca1-0558-41a1-835d-2ef0a7d17278",
   "metadata": {},
   "outputs": [],
   "source": [
    "In this example, we first connect to the mydatabase database and mycollection collection using the MongoClient class.\n",
    "\n",
    "We then insert some sample documents into the mycollection collection using the insert_many() method.\n",
    "\n",
    "We then use the find() method to retrieve all documents in the mycollection collection, and print them to the console.\n",
    "\n",
    "We then use the find() method again, this time with a query object that specifies that we only want to retrieve documents where age is greater than or equal to 30.\n",
    "We print these documents to the console.\n",
    "\n",
    "Finally, we use the find() method one more time, this time with a query object that specifies that we only want to retrieve documents where name is \"Alice\" and \n",
    "age is 25. We print these documents to the console.\n",
    "\n",
    "Note that the query object uses MongoDB's query language, which includes a number of operators for specifying more complex selection criteria. In this example, we\n",
    "use the $gte operator to specify that we want documents where age is greater than or equal to 30."
   ]
  },
  {
   "cell_type": "markdown",
   "id": "02575982-02ff-4ef2-a098-76753ca9ff8b",
   "metadata": {},
   "source": [
    "Q6) Explain the sort() method. Give an example to demonstrate sorting in MongoDB."
   ]
  },
  {
   "cell_type": "code",
   "execution_count": null,
   "id": "690e068f-83c2-431a-851c-9edb2808627d",
   "metadata": {},
   "outputs": [],
   "source": [
    "The sort() method in MongoDB is used to sort the documents in a collection based on one or more fields. The sort() method takes a dictionary as its parameter,\n",
    "where the keys are the field(s) to sort on and the values are either 1 or -1 to indicate ascending or descending order, respectively.\n",
    "\n",
    "The basic syntax for using the sort() method is as follows:\n",
    "\n",
    "collection.find().sort(sortkey, sort_order)\n",
    "Here, collection is the collection you want to sort, sortkey is the name of the field(s) to sort on, and sort_order is the order in which to sort the documents\n",
    "(1 for ascending and -1 for descending).\n",
    "\n",
    "Here's an example code snippet that demonstrates how to use the sort() method to sort a MongoDB collection:"
   ]
  },
  {
   "cell_type": "code",
   "execution_count": null,
   "id": "05babd95-3b4f-421f-9e77-9179d39cd342",
   "metadata": {},
   "outputs": [],
   "source": [
    "# import the required libraries\n",
    "from pymongo import MongoClient\n",
    "\n",
    "# connect to MongoDB\n",
    "client = MongoClient('mongodb://localhost:27017/')\n",
    "\n",
    "# access the mydatabase database and mycollection collection\n",
    "db = client['mydatabase']\n",
    "collection = db['mycollection']\n",
    "\n",
    "# insert some sample documents\n",
    "collection.insert_many([\n",
    "    {\"name\": \"Alice\", \"age\": 25, \"email\": \"alice@example.com\"},\n",
    "    {\"name\": \"Bob\", \"age\": 30, \"email\": \"bob@example.com\"},\n",
    "    {\"name\": \"Charlie\", \"age\": 35, \"email\": \"charlie@example.com\"},\n",
    "    {\"name\": \"David\", \"age\": 40, \"email\": \"david@example.com\"}\n",
    "])\n",
    "\n",
    "# sort the documents by name in ascending order\n",
    "results = collection.find().sort(\"name\", 1)\n",
    "\n",
    "# print the documents\n",
    "for result in results:\n",
    "    print(result)\n",
    "\n",
    "# sort the documents by age in descending order\n",
    "results = collection.find().sort(\"age\", -1)\n",
    "\n",
    "# print the documents\n",
    "for result in results:\n",
    "    print(result)"
   ]
  },
  {
   "cell_type": "code",
   "execution_count": null,
   "id": "15610fa9-5c94-472f-acbc-fb95305ec4b1",
   "metadata": {},
   "outputs": [],
   "source": [
    "In this example, we first connect to the mydatabase database and mycollection collection using the MongoClient class.\n",
    "\n",
    "We then insert some sample documents into the mycollection collection using the insert_many() method.\n",
    "\n",
    "We then use the sort() method to retrieve all documents in the mycollection collection, sorted by name in ascending order. We print these documents to the console.\n",
    "\n",
    "We then use the sort() method again, this time to retrieve all documents in the mycollection collection, sorted by age in descending order. We print these \n",
    "documents to the console.\n",
    "\n",
    "Note that you can sort on multiple fields by passing a list of key-value pairs to the sort() method. For example, if you wanted to sort first by age in descending\n",
    "order, and then by name in ascending order, you would use the following syntax:\n",
    "\n",
    "results = collection.find().sort([(\"age\", -1), (\"name\", 1)])"
   ]
  },
  {
   "cell_type": "markdown",
   "id": "b8126f84-babd-4b77-9d1c-8c91c879523a",
   "metadata": {},
   "source": [
    "Q7) Explain why delete_one(), delete_many(), and drop() is used."
   ]
  },
  {
   "cell_type": "code",
   "execution_count": null,
   "id": "857658a6-9199-48af-bf41-13d03afed3c9",
   "metadata": {},
   "outputs": [],
   "source": [
    "In MongoDB, the delete_one() and delete_many() methods are used to remove one or multiple documents from a collection, respectively. The drop() method, on the\n",
    "other hand, is used to completely remove a collection from the database.\n",
    "\n",
    "Here's a brief explanation of each of these methods:\n",
    "\n",
    "1)delete_one(): This method is used to remove a single document from a collection. It takes a dictionary as its parameter, which specifies the criteria to match \n",
    "for the document to be deleted. If multiple documents match the criteria, only the first one will be deleted.\n",
    "\n",
    "2)delete_many(): This method is used to remove multiple documents from a collection. Like delete_one(), it takes a dictionary as its parameter to specify the\n",
    "criteria for matching documents. All documents that match the criteria will be deleted.\n",
    "\n",
    "3)drop(): This method is used to completely remove a collection from the database. It does not take any parameters and will delete all documents in the collection.\n",
    "Once a collection has been dropped, it cannot be recovered.\n",
    "\n",
    "These methods are used to modify the data stored in a MongoDB database. delete_one() and delete_many() can be used to remove specific documents that match certain\n",
    "criteria, while drop() is used to remove entire collections. These methods are useful when you need to remove unwanted data from your database or start fresh with\n",
    "a new collection. It is important to use these methods carefully, however, as they can permanently delete data from your database."
   ]
  }
 ],
 "metadata": {
  "kernelspec": {
   "display_name": "Python 3 (ipykernel)",
   "language": "python",
   "name": "python3"
  },
  "language_info": {
   "codemirror_mode": {
    "name": "ipython",
    "version": 3
   },
   "file_extension": ".py",
   "mimetype": "text/x-python",
   "name": "python",
   "nbconvert_exporter": "python",
   "pygments_lexer": "ipython3",
   "version": "3.10.8"
  }
 },
 "nbformat": 4,
 "nbformat_minor": 5
}
